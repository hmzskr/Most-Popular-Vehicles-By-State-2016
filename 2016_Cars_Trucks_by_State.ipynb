{
 "cells": [
  {
   "cell_type": "code",
   "execution_count": 1,
   "metadata": {},
   "outputs": [],
   "source": [
    "from bs4 import BeautifulSoup as bs\n",
    "import requests\n",
    "import os"
   ]
  },
  {
   "cell_type": "code",
   "execution_count": 2,
   "metadata": {},
   "outputs": [],
   "source": [
    "url = \"https://www.usatoday.com/story/news/nation-now/2017/08/30/these-most-popular-cars-and-trucks-every-state/478537001/\""
   ]
  },
  {
   "cell_type": "code",
   "execution_count": 3,
   "metadata": {},
   "outputs": [],
   "source": [
    "response = requests.get(url)"
   ]
  },
  {
   "cell_type": "code",
   "execution_count": 4,
   "metadata": {},
   "outputs": [],
   "source": [
    "soup = bs(response.text,'html.parser')"
   ]
  },
  {
   "cell_type": "code",
   "execution_count": 5,
   "metadata": {},
   "outputs": [],
   "source": [
    "results = soup.find_all('p', class_=\"p-text\")"
   ]
  },
  {
   "cell_type": "code",
   "execution_count": 6,
   "metadata": {},
   "outputs": [
    {
     "data": {
      "text/plain": [
       "'Alaska:\\xa0F150'"
      ]
     },
     "execution_count": 6,
     "metadata": {},
     "output_type": "execute_result"
    }
   ],
   "source": [
    "results[6].text"
   ]
  },
  {
   "cell_type": "code",
   "execution_count": 7,
   "metadata": {},
   "outputs": [
    {
     "name": "stdout",
     "output_type": "stream",
     "text": [
      "Ford's F150 is America's best selling vehicle, but the pick-up truck doesn't reign supreme in all 50 states.\n",
      "According to Kelley Blue Book data, more than 10 states choose SUVs over pickups. Compact cars (Honda's Civic, Toyota's Corolla and Yaris) are the top picks in California, Ohio, Florida, Washington, D.C. and Puerto Rico.\n",
      "Still, Kelley Blue Book's list of the most popular vehicles sold in each state based on new car registrations in 2016 shows Americans love their trucks.\n",
      "This year, the F-Series remains most popular, but Tim Fleming, analyst for Kelley Blue Book said 2017 consumers could shift last year's data.\n",
      "\"Sedans are rapidly falling out of favor,\" Fleming said in an email. \"The Camry, Civic and Corolla have dropped from the fourth, fifth and sixth places to seventh, eighth and ninth this year. We don’t see this trend stopping any time soon, although the new Camry could boost sales in the short-term.\"\n",
      "Here's a look at the 2016 data:\n",
      "Alaska: F150\n",
      "Alabama: F150\n",
      "Arizona: F150\n",
      "Arkansas: Sierra 1500\n",
      "California: Civic\n",
      "Colorado: Outback\n",
      "Connecticut: Rogue\n",
      "Washington, D.C.: Civic\n",
      "Delaware: Silverado 1500\n",
      "Florida: Corolla\n",
      "Georgia: F150\n",
      "Hawaii: Tacoma\n",
      "Iowa: Silverado 1500\n",
      "Idaho: F150\n",
      "Illinois: CR-V\n",
      "Indiana: Silverado 1500\n",
      "Kansas: F150\n",
      "Kentucky: F150\n",
      "Louisiana: F150\n",
      "Massachusetts: RAV4\n",
      "Maryland: CR-V\n",
      "Maine: Silverado 1500\n",
      "Michigan: Escape\n",
      "Minnesota: F150\n",
      "Missouri: F150\n",
      "Mississippi: F150\n",
      "Montana: F150\n",
      "North Carolina: Accord\n",
      "North Dakota: F150\n",
      "Nebraska: F150\n",
      "New Hampshire: Silverado 1500\n",
      "New Jersey: CR-V\n",
      "New Mexico: F150\n",
      "Nevada: RAV4\n",
      "New York: Rogue\n",
      "Ohio: Civic\n",
      "Oklahoma: F150\n",
      "Oregon: Outback\n",
      "Pennsylvania: CR-V\n",
      "Puerto Rico: Yaris\n",
      "Rhode Island: RAV4\n",
      "South Carolina: F150\n",
      "South Dakota: F150\n",
      "Tennessee: F150\n",
      "Texas: F150\n",
      "Utah: F150\n",
      "Virginia: CR-V\n",
      "Vermont: RAV4\n",
      "Washington: Outback\n",
      "Wisconsin: Silverado 1500\n",
      "West Virginia: Silverado 1500\n",
      "Wyoming: F150\n",
      "Follow Ashley May on Twitter: @AshleyMayTweets\n"
     ]
    }
   ],
   "source": [
    "states_cars = [] \n",
    "for result in results:\n",
    "    try:\n",
    "        state_car = result.text.strip()\n",
    "        states_cars.append(state_car)\n",
    "        print(state_car)\n",
    "    except AttributeError as e:\n",
    "        print(e)"
   ]
  },
  {
   "cell_type": "code",
   "execution_count": 8,
   "metadata": {},
   "outputs": [],
   "source": [
    "states_cars = states_cars[6:58]"
   ]
  },
  {
   "cell_type": "code",
   "execution_count": 9,
   "metadata": {},
   "outputs": [],
   "source": [
    "import pandas as pd\n",
    "df = pd.DataFrame({\n",
    "    \"States_and_Cars\":states_cars\n",
    "})"
   ]
  },
  {
   "cell_type": "code",
   "execution_count": 10,
   "metadata": {},
   "outputs": [
    {
     "data": {
      "text/html": [
       "<div>\n",
       "<style scoped>\n",
       "    .dataframe tbody tr th:only-of-type {\n",
       "        vertical-align: middle;\n",
       "    }\n",
       "\n",
       "    .dataframe tbody tr th {\n",
       "        vertical-align: top;\n",
       "    }\n",
       "\n",
       "    .dataframe thead th {\n",
       "        text-align: right;\n",
       "    }\n",
       "</style>\n",
       "<table border=\"1\" class=\"dataframe\">\n",
       "  <thead>\n",
       "    <tr style=\"text-align: right;\">\n",
       "      <th></th>\n",
       "      <th>States_and_Cars</th>\n",
       "    </tr>\n",
       "  </thead>\n",
       "  <tbody>\n",
       "    <tr>\n",
       "      <th>0</th>\n",
       "      <td>Alaska: F150</td>\n",
       "    </tr>\n",
       "    <tr>\n",
       "      <th>1</th>\n",
       "      <td>Alabama: F150</td>\n",
       "    </tr>\n",
       "    <tr>\n",
       "      <th>2</th>\n",
       "      <td>Arizona: F150</td>\n",
       "    </tr>\n",
       "    <tr>\n",
       "      <th>3</th>\n",
       "      <td>Arkansas: Sierra 1500</td>\n",
       "    </tr>\n",
       "    <tr>\n",
       "      <th>4</th>\n",
       "      <td>California: Civic</td>\n",
       "    </tr>\n",
       "  </tbody>\n",
       "</table>\n",
       "</div>"
      ],
      "text/plain": [
       "         States_and_Cars\n",
       "0           Alaska: F150\n",
       "1          Alabama: F150\n",
       "2          Arizona: F150\n",
       "3  Arkansas: Sierra 1500\n",
       "4      California: Civic"
      ]
     },
     "execution_count": 10,
     "metadata": {},
     "output_type": "execute_result"
    }
   ],
   "source": [
    "df.head()"
   ]
  },
  {
   "cell_type": "code",
   "execution_count": 11,
   "metadata": {},
   "outputs": [],
   "source": [
    "df=df['States_and_Cars'].str.split(\":\", n=2, expand = True)"
   ]
  },
  {
   "cell_type": "code",
   "execution_count": 12,
   "metadata": {},
   "outputs": [],
   "source": [
    "df.rename(columns = {0:'State',1:'Car'},inplace=True)"
   ]
  },
  {
   "cell_type": "code",
   "execution_count": 13,
   "metadata": {},
   "outputs": [
    {
     "data": {
      "text/plain": [
       "['F150',\n",
       " 'Accord',\n",
       " 'Outback',\n",
       " 'Corolla',\n",
       " 'Escape',\n",
       " 'Sierra 1500',\n",
       " 'RAV4',\n",
       " 'Civic',\n",
       " 'Rogue',\n",
       " 'Yaris',\n",
       " 'CR-V',\n",
       " 'Silverado 1500',\n",
       " 'Tacoma']"
      ]
     },
     "execution_count": 13,
     "metadata": {},
     "output_type": "execute_result"
    }
   ],
   "source": [
    "clean_cars = []\n",
    "for item in list(df.Car):\n",
    "    new_item = item.replace(u'\\xa0', u' ')\n",
    "    clean_cars.append(new_item.lstrip())\n",
    "    \n",
    "list(set(clean_cars))"
   ]
  },
  {
   "cell_type": "code",
   "execution_count": null,
   "metadata": {},
   "outputs": [],
   "source": []
  }
 ],
 "metadata": {
  "kernelspec": {
   "display_name": "Python 3",
   "language": "python",
   "name": "python3"
  },
  "language_info": {
   "codemirror_mode": {
    "name": "ipython",
    "version": 3
   },
   "file_extension": ".py",
   "mimetype": "text/x-python",
   "name": "python",
   "nbconvert_exporter": "python",
   "pygments_lexer": "ipython3",
   "version": "3.7.3"
  }
 },
 "nbformat": 4,
 "nbformat_minor": 2
}
