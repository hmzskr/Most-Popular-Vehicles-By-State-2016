{
 "cells": [
  {
   "cell_type": "markdown",
   "metadata": {},
   "source": [
    "# Most Popular Car by State"
   ]
  },
  {
   "cell_type": "code",
   "execution_count": 1,
   "metadata": {},
   "outputs": [],
   "source": [
    "# Import dependencies \n",
    "from bs4 import BeautifulSoup as bs\n",
    "import requests\n",
    "import os\n",
    "import pandas as pd\n",
    "import json\n",
    "import sqlite3 as sq"
   ]
  },
  {
   "cell_type": "markdown",
   "metadata": {},
   "source": [
    "### Scrape \"USA Today\" Site for State and Model Data"
   ]
  },
  {
   "cell_type": "code",
   "execution_count": 2,
   "metadata": {},
   "outputs": [],
   "source": [
    "# URL of page to be scraped\n",
    "url = \"https://www.usatoday.com/story/news/nation-now/2017/08/30/these-most-popular-cars-and-trucks-every-state/478537001/\"\n",
    "\n",
    "# Retrieve page with the requests module\n",
    "response = requests.get(url)\n",
    "\n",
    "# Create BeautifulSoup object; parse with 'html.parser'\n",
    "soup = bs(response.text,'html.parser')"
   ]
  },
  {
   "cell_type": "code",
   "execution_count": 3,
   "metadata": {},
   "outputs": [
    {
     "data": {
      "text/plain": [
       "'Alaska:\\xa0F150'"
      ]
     },
     "execution_count": 3,
     "metadata": {},
     "output_type": "execute_result"
    }
   ],
   "source": [
    "# Retrieve state and model data from \"p-text\" class\n",
    "results = soup.find_all('p', class_=\"p-text\")\n",
    "\n",
    "# Inspect the seventh element \n",
    "results[6].text"
   ]
  },
  {
   "cell_type": "code",
   "execution_count": 4,
   "metadata": {},
   "outputs": [
    {
     "name": "stdout",
     "output_type": "stream",
     "text": [
      "Ford's F150 is America's best selling vehicle, but the pick-up truck doesn't reign supreme in all 50 states.\n",
      "According to Kelley Blue Book data, more than 10 states choose SUVs over pickups. Compact cars (Honda's Civic, Toyota's Corolla and Yaris) are the top picks in California, Ohio, Florida, Washington, D.C. and Puerto Rico. \n",
      "Still, Kelley Blue Book's list of the most popular vehicles sold in each state based on new car registrations in 2016 shows Americans love their trucks. \n",
      "This year, the F-Series remains most popular, but Tim Fleming, analyst for Kelley Blue Book said 2017 consumers could shift last year's data. \n",
      "\"Sedans are rapidly falling out of favor,\" Fleming said in an email. \"The Camry, Civic and Corolla have dropped from the fourth, fifth and sixth places to seventh, eighth and ninth this year. We don’t see this trend stopping any time soon, although the new Camry could boost sales in the short-term.\"\n",
      "Here's a look at the 2016 data:\n",
      "Alaska: F150\n",
      "Alabama: F150\n",
      "Arizona: F150\n",
      "Arkansas: Sierra 1500\n",
      "California: Civic\n",
      "Colorado: Outback\n",
      "Connecticut: Rogue\n",
      "Washington, D.C.: Civic\n",
      "Delaware: Silverado 1500\n",
      "Florida: Corolla\n",
      "Georgia: F150\n",
      "Hawaii: Tacoma\n",
      "Iowa: Silverado 1500\n",
      "Idaho: F150\n",
      "Illinois: CR-V\n",
      "Indiana: Silverado 1500\n",
      "Kansas: F150\n",
      "Kentucky: F150\n",
      "Louisiana: F150\n",
      "Massachusetts: RAV4\n",
      "Maryland: CR-V\n",
      "Maine: Silverado 1500\n",
      "Michigan: Escape\n",
      "Minnesota: F150\n",
      "Missouri: F150\n",
      "Mississippi: F150\n",
      "Montana: F150\n",
      "North Carolina: Accord\n",
      "North Dakota: F150\n",
      "Nebraska: F150\n",
      "New Hampshire: Silverado 1500\n",
      "New Jersey: CR-V\n",
      "New Mexico: F150\n",
      "Nevada: RAV4\n",
      "New York: Rogue \n",
      "Ohio: Civic\n",
      "Oklahoma: F150\n",
      "Oregon: Outback\n",
      "Pennsylvania: CR-V\n",
      "Puerto Rico: Yaris\n",
      "Rhode Island: RAV4\n",
      "South Carolina: F150\n",
      "South Dakota: F150\n",
      "Tennessee: F150\n",
      "Texas: F150\n",
      "Utah: F150\n",
      "Virginia: CR-V\n",
      "Vermont: RAV4\n",
      "Washington: Outback\n",
      "Wisconsin: Silverado 1500\n",
      "West Virginia: Silverado 1500\n",
      "Wyoming: F150\n",
      "Follow Ashley May on Twitter: @AshleyMayTweets\n"
     ]
    }
   ],
   "source": [
    "# Create empty list to hold state and model data \n",
    "states_cars = [] \n",
    "\n",
    "# Loop through returned results\n",
    "for result in results:\n",
    "    # Error handling\n",
    "    try:\n",
    "        # Extract text\n",
    "        state_car = result.text\n",
    "        # Append results to empty list\n",
    "        states_cars.append(state_car)\n",
    "        # Preview results\n",
    "        print(state_car)\n",
    "    except AttributeError as e:\n",
    "        print(e)"
   ]
  },
  {
   "cell_type": "code",
   "execution_count": 5,
   "metadata": {},
   "outputs": [],
   "source": [
    "# Create new list that cotains only state and model information \n",
    "states_cars = states_cars[6:58]"
   ]
  },
  {
   "cell_type": "markdown",
   "metadata": {},
   "source": [
    "### Create DataFrame Using Pandas "
   ]
  },
  {
   "cell_type": "code",
   "execution_count": 6,
   "metadata": {},
   "outputs": [
    {
     "data": {
      "text/html": [
       "<div>\n",
       "<style scoped>\n",
       "    .dataframe tbody tr th:only-of-type {\n",
       "        vertical-align: middle;\n",
       "    }\n",
       "\n",
       "    .dataframe tbody tr th {\n",
       "        vertical-align: top;\n",
       "    }\n",
       "\n",
       "    .dataframe thead th {\n",
       "        text-align: right;\n",
       "    }\n",
       "</style>\n",
       "<table border=\"1\" class=\"dataframe\">\n",
       "  <thead>\n",
       "    <tr style=\"text-align: right;\">\n",
       "      <th></th>\n",
       "      <th>States_and_Cars</th>\n",
       "    </tr>\n",
       "  </thead>\n",
       "  <tbody>\n",
       "    <tr>\n",
       "      <th>0</th>\n",
       "      <td>Alaska: F150</td>\n",
       "    </tr>\n",
       "    <tr>\n",
       "      <th>1</th>\n",
       "      <td>Alabama: F150</td>\n",
       "    </tr>\n",
       "    <tr>\n",
       "      <th>2</th>\n",
       "      <td>Arizona: F150</td>\n",
       "    </tr>\n",
       "    <tr>\n",
       "      <th>3</th>\n",
       "      <td>Arkansas: Sierra 1500</td>\n",
       "    </tr>\n",
       "    <tr>\n",
       "      <th>4</th>\n",
       "      <td>California: Civic</td>\n",
       "    </tr>\n",
       "  </tbody>\n",
       "</table>\n",
       "</div>"
      ],
      "text/plain": [
       "         States_and_Cars\n",
       "0           Alaska: F150\n",
       "1          Alabama: F150\n",
       "2          Arizona: F150\n",
       "3  Arkansas: Sierra 1500\n",
       "4      California: Civic"
      ]
     },
     "execution_count": 6,
     "metadata": {},
     "output_type": "execute_result"
    }
   ],
   "source": [
    "# Create dataframe\n",
    "df = pd.DataFrame({\n",
    "    \"States_and_Cars\":states_cars\n",
    "})\n",
    "\n",
    "# Preview dataframe\n",
    "df.head()"
   ]
  },
  {
   "cell_type": "code",
   "execution_count": 7,
   "metadata": {},
   "outputs": [
    {
     "data": {
      "text/html": [
       "<div>\n",
       "<style scoped>\n",
       "    .dataframe tbody tr th:only-of-type {\n",
       "        vertical-align: middle;\n",
       "    }\n",
       "\n",
       "    .dataframe tbody tr th {\n",
       "        vertical-align: top;\n",
       "    }\n",
       "\n",
       "    .dataframe thead th {\n",
       "        text-align: right;\n",
       "    }\n",
       "</style>\n",
       "<table border=\"1\" class=\"dataframe\">\n",
       "  <thead>\n",
       "    <tr style=\"text-align: right;\">\n",
       "      <th></th>\n",
       "      <th>State</th>\n",
       "      <th>Model</th>\n",
       "    </tr>\n",
       "  </thead>\n",
       "  <tbody>\n",
       "    <tr>\n",
       "      <th>0</th>\n",
       "      <td>Alaska</td>\n",
       "      <td>F150</td>\n",
       "    </tr>\n",
       "    <tr>\n",
       "      <th>1</th>\n",
       "      <td>Alabama</td>\n",
       "      <td>F150</td>\n",
       "    </tr>\n",
       "    <tr>\n",
       "      <th>2</th>\n",
       "      <td>Arizona</td>\n",
       "      <td>F150</td>\n",
       "    </tr>\n",
       "    <tr>\n",
       "      <th>3</th>\n",
       "      <td>Arkansas</td>\n",
       "      <td>Sierra 1500</td>\n",
       "    </tr>\n",
       "    <tr>\n",
       "      <th>4</th>\n",
       "      <td>California</td>\n",
       "      <td>Civic</td>\n",
       "    </tr>\n",
       "  </tbody>\n",
       "</table>\n",
       "</div>"
      ],
      "text/plain": [
       "        State         Model\n",
       "0      Alaska          F150\n",
       "1     Alabama          F150\n",
       "2     Arizona          F150\n",
       "3    Arkansas   Sierra 1500\n",
       "4  California         Civic"
      ]
     },
     "execution_count": 7,
     "metadata": {},
     "output_type": "execute_result"
    }
   ],
   "source": [
    "# Separate data into two columns\n",
    "df=df['States_and_Cars'].str.split(\":\", n=2, expand = True)\n",
    "\n",
    "# Rename columns appropriately \n",
    "df.rename(columns = {0:'State',1:'Model'},inplace=True)\n",
    "\n",
    "# Preview dataframe\n",
    "df.head()"
   ]
  },
  {
   "cell_type": "code",
   "execution_count": 8,
   "metadata": {},
   "outputs": [
    {
     "data": {
      "text/plain": [
       "{'Accord',\n",
       " 'CR-V',\n",
       " 'Civic',\n",
       " 'Corolla',\n",
       " 'Escape',\n",
       " 'F-150',\n",
       " 'Outback',\n",
       " 'RAV4',\n",
       " 'Rogue',\n",
       " 'Sierra-1500',\n",
       " 'Silverado-1500',\n",
       " 'Tacoma',\n",
       " 'Yaris'}"
      ]
     },
     "execution_count": 8,
     "metadata": {},
     "output_type": "execute_result"
    }
   ],
   "source": [
    "# Create empty list to hold updated car data \n",
    "car_list = []\n",
    "\n",
    "# Loop through and clean from model data\n",
    "for i in range(len(df['Model'])):\n",
    "    car = df['Model'][i].replace(u'\\xa0',u' ').lstrip().rstrip().replace(' ', '-').replace('F150', 'F-150')\n",
    "    # Append results to empty list\n",
    "    car_list.append(car)\n",
    "# Retrieve unique values from list\n",
    "set(car_list)"
   ]
  },
  {
   "cell_type": "code",
   "execution_count": null,
   "metadata": {},
   "outputs": [
    {
     "data": {
      "text/html": [
       "<div>\n",
       "<style scoped>\n",
       "    .dataframe tbody tr th:only-of-type {\n",
       "        vertical-align: middle;\n",
       "    }\n",
       "\n",
       "    .dataframe tbody tr th {\n",
       "        vertical-align: top;\n",
       "    }\n",
       "\n",
       "    .dataframe thead th {\n",
       "        text-align: right;\n",
       "    }\n",
       "</style>\n",
       "<table border=\"1\" class=\"dataframe\">\n",
       "  <thead>\n",
       "    <tr style=\"text-align: right;\">\n",
       "      <th></th>\n",
       "      <th>State</th>\n",
       "      <th>Model</th>\n",
       "    </tr>\n",
       "  </thead>\n",
       "  <tbody>\n",
       "    <tr>\n",
       "      <th>0</th>\n",
       "      <td>Alaska</td>\n",
       "      <td>F-150</td>\n",
       "    </tr>\n",
       "    <tr>\n",
       "      <th>1</th>\n",
       "      <td>Alabama</td>\n",
       "      <td>F-150</td>\n",
       "    </tr>\n",
       "    <tr>\n",
       "      <th>2</th>\n",
       "      <td>Arizona</td>\n",
       "      <td>F-150</td>\n",
       "    </tr>\n",
       "    <tr>\n",
       "      <th>3</th>\n",
       "      <td>Arkansas</td>\n",
       "      <td>Sierra-1500</td>\n",
       "    </tr>\n",
       "    <tr>\n",
       "      <th>4</th>\n",
       "      <td>California</td>\n",
       "      <td>Civic</td>\n",
       "    </tr>\n",
       "  </tbody>\n",
       "</table>\n",
       "</div>"
      ],
      "text/plain": [
       "        State        Model\n",
       "0      Alaska        F-150\n",
       "1     Alabama        F-150\n",
       "2     Arizona        F-150\n",
       "3    Arkansas  Sierra-1500\n",
       "4  California        Civic"
      ]
     },
     "execution_count": 9,
     "metadata": {},
     "output_type": "execute_result"
    }
   ],
   "source": [
    "# Add updated model data to dataframe\n",
    "df['Model'] = car_list\n",
    "\n",
    "# Preview dataframe\n",
    "df.head()"
   ]
  },
  {
   "cell_type": "code",
   "execution_count": null,
   "metadata": {},
   "outputs": [
    {
     "data": {
      "text/html": [
       "<div>\n",
       "<style scoped>\n",
       "    .dataframe tbody tr th:only-of-type {\n",
       "        vertical-align: middle;\n",
       "    }\n",
       "\n",
       "    .dataframe tbody tr th {\n",
       "        vertical-align: top;\n",
       "    }\n",
       "\n",
       "    .dataframe thead th {\n",
       "        text-align: right;\n",
       "    }\n",
       "</style>\n",
       "<table border=\"1\" class=\"dataframe\">\n",
       "  <thead>\n",
       "    <tr style=\"text-align: right;\">\n",
       "      <th></th>\n",
       "      <th>State</th>\n",
       "      <th>Model</th>\n",
       "      <th>Make</th>\n",
       "    </tr>\n",
       "  </thead>\n",
       "  <tbody>\n",
       "    <tr>\n",
       "      <th>0</th>\n",
       "      <td>Alaska</td>\n",
       "      <td>F-150</td>\n",
       "      <td>Ford</td>\n",
       "    </tr>\n",
       "    <tr>\n",
       "      <th>1</th>\n",
       "      <td>Alabama</td>\n",
       "      <td>F-150</td>\n",
       "      <td>Ford</td>\n",
       "    </tr>\n",
       "    <tr>\n",
       "      <th>2</th>\n",
       "      <td>Arizona</td>\n",
       "      <td>F-150</td>\n",
       "      <td>Ford</td>\n",
       "    </tr>\n",
       "    <tr>\n",
       "      <th>3</th>\n",
       "      <td>Arkansas</td>\n",
       "      <td>Sierra-1500</td>\n",
       "      <td>GMC</td>\n",
       "    </tr>\n",
       "    <tr>\n",
       "      <th>4</th>\n",
       "      <td>California</td>\n",
       "      <td>Civic</td>\n",
       "      <td>Honda</td>\n",
       "    </tr>\n",
       "  </tbody>\n",
       "</table>\n",
       "</div>"
      ],
      "text/plain": [
       "        State        Model   Make\n",
       "0      Alaska        F-150   Ford\n",
       "1     Alabama        F-150   Ford\n",
       "2     Arizona        F-150   Ford\n",
       "3    Arkansas  Sierra-1500    GMC\n",
       "4  California        Civic  Honda"
      ]
     },
     "execution_count": 10,
     "metadata": {},
     "output_type": "execute_result"
    }
   ],
   "source": [
    "# Add \"Make\" column that contains the make of each vehicle to dataframe \n",
    "df['Make'] = df['Model'].map({\n",
    "    'Accord' : 'Honda',\n",
    "    'CR-V' : 'Honda',\n",
    "    'Civic' : 'Honda',\n",
    "    'Corolla' : 'Toyota',\n",
    "    'Escape' : 'Ford',\n",
    "    'F-150' : 'Ford',\n",
    "    'Outback' : 'Subaru',\n",
    "    'RAV4' : 'Toyota',\n",
    "    'Rogue' : 'Nissan',\n",
    "    'Sierra-1500' : 'GMC',\n",
    "    'Silverado-1500' : 'Chevrolet',\n",
    "    'Tacoma' : 'Toyota',\n",
    "    'Yaris' : 'Toyota'})\n",
    "\n",
    "# Preview dataframe\n",
    "df.head()"
   ]
  },
  {
   "cell_type": "code",
   "execution_count": null,
   "metadata": {},
   "outputs": [
    {
     "data": {
      "text/html": [
       "<div>\n",
       "<style scoped>\n",
       "    .dataframe tbody tr th:only-of-type {\n",
       "        vertical-align: middle;\n",
       "    }\n",
       "\n",
       "    .dataframe tbody tr th {\n",
       "        vertical-align: top;\n",
       "    }\n",
       "\n",
       "    .dataframe thead th {\n",
       "        text-align: right;\n",
       "    }\n",
       "</style>\n",
       "<table border=\"1\" class=\"dataframe\">\n",
       "  <thead>\n",
       "    <tr style=\"text-align: right;\">\n",
       "      <th></th>\n",
       "      <th>Model</th>\n",
       "      <th>Make</th>\n",
       "    </tr>\n",
       "  </thead>\n",
       "  <tbody>\n",
       "    <tr>\n",
       "      <th>0</th>\n",
       "      <td>F-150</td>\n",
       "      <td>Ford</td>\n",
       "    </tr>\n",
       "    <tr>\n",
       "      <th>1</th>\n",
       "      <td>Sierra-1500</td>\n",
       "      <td>GMC</td>\n",
       "    </tr>\n",
       "    <tr>\n",
       "      <th>2</th>\n",
       "      <td>Civic</td>\n",
       "      <td>Honda</td>\n",
       "    </tr>\n",
       "    <tr>\n",
       "      <th>3</th>\n",
       "      <td>Outback</td>\n",
       "      <td>Subaru</td>\n",
       "    </tr>\n",
       "    <tr>\n",
       "      <th>4</th>\n",
       "      <td>Rogue</td>\n",
       "      <td>Nissan</td>\n",
       "    </tr>\n",
       "    <tr>\n",
       "      <th>5</th>\n",
       "      <td>Silverado-1500</td>\n",
       "      <td>Chevrolet</td>\n",
       "    </tr>\n",
       "    <tr>\n",
       "      <th>6</th>\n",
       "      <td>Corolla</td>\n",
       "      <td>Toyota</td>\n",
       "    </tr>\n",
       "    <tr>\n",
       "      <th>7</th>\n",
       "      <td>Tacoma</td>\n",
       "      <td>Toyota</td>\n",
       "    </tr>\n",
       "    <tr>\n",
       "      <th>8</th>\n",
       "      <td>CR-V</td>\n",
       "      <td>Honda</td>\n",
       "    </tr>\n",
       "    <tr>\n",
       "      <th>9</th>\n",
       "      <td>RAV4</td>\n",
       "      <td>Toyota</td>\n",
       "    </tr>\n",
       "    <tr>\n",
       "      <th>10</th>\n",
       "      <td>Escape</td>\n",
       "      <td>Ford</td>\n",
       "    </tr>\n",
       "    <tr>\n",
       "      <th>11</th>\n",
       "      <td>Accord</td>\n",
       "      <td>Honda</td>\n",
       "    </tr>\n",
       "    <tr>\n",
       "      <th>12</th>\n",
       "      <td>Yaris</td>\n",
       "      <td>Toyota</td>\n",
       "    </tr>\n",
       "  </tbody>\n",
       "</table>\n",
       "</div>"
      ],
      "text/plain": [
       "             Model       Make\n",
       "0            F-150       Ford\n",
       "1      Sierra-1500        GMC\n",
       "2            Civic      Honda\n",
       "3          Outback     Subaru\n",
       "4            Rogue     Nissan\n",
       "5   Silverado-1500  Chevrolet\n",
       "6          Corolla     Toyota\n",
       "7           Tacoma     Toyota\n",
       "8             CR-V      Honda\n",
       "9             RAV4     Toyota\n",
       "10          Escape       Ford\n",
       "11          Accord      Honda\n",
       "12           Yaris     Toyota"
      ]
     },
     "execution_count": 11,
     "metadata": {},
     "output_type": "execute_result"
    }
   ],
   "source": [
    "# Create dataframe to only contain \"Model\" and \"Make\" Columns\n",
    "unique_cars_df = df[['Model','Make']]\n",
    "\n",
    "# Drop duplicates\n",
    "unique_cars_df = unique_cars_df.drop_duplicates(subset='Model')\n",
    "\n",
    "# Reset index\n",
    "unique_cars_df.reset_index(drop=True, inplace=True)\n",
    "\n",
    "# Preview dataframe\n",
    "unique_cars_df"
   ]
  },
  {
   "cell_type": "markdown",
   "metadata": {},
   "source": [
    "### Scrape \"Motor Trend\" Site for Vehicle Information"
   ]
  },
  {
   "cell_type": "code",
   "execution_count": null,
   "metadata": {
    "scrolled": false
   },
   "outputs": [
    {
     "name": "stdout",
     "output_type": "stream",
     "text": [
      "https://www.motortrend.com/cars/Ford/F-150/2016/\n",
      "<Response [200]>\n",
      "https://www.motortrend.com/cars/GMC/Sierra-1500/2016/\n",
      "<Response [200]>\n",
      "https://www.motortrend.com/cars/Honda/Civic/2016/\n",
      "<Response [200]>\n",
      "https://www.motortrend.com/cars/Subaru/Outback/2016/\n",
      "<Response [200]>\n",
      "https://www.motortrend.com/cars/Nissan/Rogue/2016/\n",
      "<Response [200]>\n",
      "https://www.motortrend.com/cars/Chevrolet/Silverado-1500/2016/\n",
      "<Response [200]>\n",
      "https://www.motortrend.com/cars/Toyota/Corolla/2016/\n",
      "<Response [200]>\n",
      "https://www.motortrend.com/cars/Toyota/Tacoma/2016/\n",
      "<Response [200]>\n",
      "https://www.motortrend.com/cars/Honda/CR-V/2016/\n",
      "<Response [200]>\n",
      "https://www.motortrend.com/cars/Toyota/RAV4/2016/\n",
      "<Response [200]>\n",
      "https://www.motortrend.com/cars/Ford/Escape/2016/\n",
      "<Response [200]>\n",
      "https://www.motortrend.com/cars/Honda/Accord/2016/\n",
      "<Response [200]>\n",
      "https://www.motortrend.com/cars/Toyota/Yaris/2016/\n",
      "<Response [200]>\n"
     ]
    }
   ],
   "source": [
    "# Create two empty lists to hold scraping response and data\n",
    "car_response = []\n",
    "car_soup = []\n",
    "\n",
    "# https://www.motortrend.com/cars/chevrolet/silverado-1500/2019/\n",
    "\n",
    "# Retrieve Motor Trend page and loop through to receive vehicle information urls for each car\n",
    "for item in range(len(unique_cars_df['Model'])):\n",
    "    car_url = \"https://www.motortrend.com/cars/\" + unique_cars_df['Make'][item] + \"/\" + unique_cars_df['Model'][item] + \\\n",
    "    \"/2016/\"\n",
    "    # Preview url\n",
    "    print(car_url)\n",
    "    responses = requests.get(car_url)\n",
    "    # Append results to both lists\n",
    "    car_soup.append(bs(responses.text,'html.parser'))\n",
    "    car_response.append(responses)\n",
    "    # Preview response\n",
    "    print(responses)\n"
   ]
  },
  {
   "cell_type": "code",
   "execution_count": null,
   "metadata": {},
   "outputs": [
    {
     "data": {
      "text/plain": [
       "[<div class=\"key\">Value Rating</div>,\n",
       " <div class=\"key\">Engine Name</div>,\n",
       " <div class=\"key\">Transmission Name</div>,\n",
       " <div class=\"key\">Trim</div>,\n",
       " <div class=\"key\">Class</div>,\n",
       " <div class=\"key\">Horsepower</div>,\n",
       " <div class=\"key\">Standard MPG</div>,\n",
       " <div class=\"key\">Body Style</div>,\n",
       " <div class=\"key\">Drivetrain</div>,\n",
       " <div class=\"key\">Fuel Type</div>,\n",
       " <div class=\"key\">Seating Capacity (Std/Max)</div>]"
      ]
     },
     "execution_count": 13,
     "metadata": {},
     "output_type": "execute_result"
    }
   ],
   "source": [
    "# Retrieve specification headers from \"key\" tag for first element\n",
    "car_soup[0].find_all('div', class_ = \"key\")[1:12]"
   ]
  },
  {
   "cell_type": "code",
   "execution_count": null,
   "metadata": {},
   "outputs": [
    {
     "data": {
      "text/plain": [
       "[<div class=\"value\">Below Average</div>,\n",
       " <div class=\"value\">Engine: V6 Flex Fuel 3.5 Liter</div>,\n",
       " <div class=\"value\"><span itemprop=\"vehicleTransmission\">SelectShift® 6 Speed Automatic Mode Select with Manual Mode (6R80E)</span></div>,\n",
       " <div class=\"value\"><span itemprop=\"vehicleConfiguration\">XL 2WD Short Bed Regular Cab</span></div>,\n",
       " <div class=\"value\">Full-Size Pickup LD</div>,\n",
       " <div class=\"value\">283@6500</div>,\n",
       " <div class=\"value\"><div itemprop=\"fuelEfficiency\" itemscope=\"\" itemtype=\"//schema.org/QuantitativeValue\">\n",
       " <span itemprop=\"minValue\">18</span> City /\n",
       " \t\t\t\t\t\t\t\t\t  <span itemprop=\"maxValue\">24</span> Hwy</div></div>,\n",
       " <div class=\"value\"><span itemprop=\"bodyType\">Truck</span></div>,\n",
       " <div class=\"value\"><span itemprop=\"driveWheelConfiguration\">RWD</span></div>,\n",
       " <div class=\"value\"><span itemprop=\"fuelType\">Unleaded Regular</span></div>,\n",
       " <div class=\"value\"><span itemprop=\"vehicleSeatingCapacity\">3/3</span></div>]"
      ]
     },
     "execution_count": 14,
     "metadata": {},
     "output_type": "execute_result"
    }
   ],
   "source": [
    "# Retrieve vehicle specifications from \"value\" tag for first element\n",
    "car_soup[0].find_all('div', class_ = \"value\")[1:12]"
   ]
  },
  {
   "cell_type": "code",
   "execution_count": null,
   "metadata": {},
   "outputs": [
    {
     "data": {
      "text/plain": [
       "'$21,610'"
      ]
     },
     "execution_count": 15,
     "metadata": {},
     "output_type": "execute_result"
    }
   ],
   "source": [
    "# Retrieve pricing from \"price\" tag for first element\n",
    "car_soup[0]('div', class_=\"price\")[2].text"
   ]
  },
  {
   "cell_type": "code",
   "execution_count": null,
   "metadata": {},
   "outputs": [
    {
     "name": "stdout",
     "output_type": "stream",
     "text": [
      "$26,540\n",
      "$23,900\n",
      "$21,610\n",
      "Below Average\n",
      "Engine: V6 Flex Fuel 3.5 Liter\n",
      "SelectShift® 6 Speed Automatic Mode Select with Manual Mode (6R80E)\n",
      "XL 2WD Short Bed Regular Cab\n",
      "Full-Size Pickup LD\n",
      "283@6500\n",
      "18 City / 24 Hwy\n",
      "Truck\n",
      "RWD\n",
      "Unleaded Regular\n",
      "3/3\n",
      "['https://st.motortrend.com/uploads/sites/10/2017/11/2018-ford-f-150-xlt-supercab-pick-up-angular-front.png', 'https://st.motortrend.com/uploads/sites/10/2018/03/2019-GMC-Sierra-1500-Denali-front-view.jpg', 'https://st.motortrend.com/uploads/sites/10/2018/08/2019-Honda-Civic-Coupe-Sport.jpg', 'https://st.motortrend.com/uploads/sites/10/2017/10/2018-subaru-outback-premium-wagon-angular-front.png', 'https://st.motortrend.com/uploads/sites/10/2017/12/2018-nissan-rogue-s-suv-angular-front.png', 'https://st.motortrend.com/uploads/sites/10/2018/01/2019-Chevrolet-Silverado-1500-front-side-view-1.jpg', 'https://st.motortrend.com/uploads/sites/10/2017/10/2018-toyota-corolla-l-sedan-angular-front.png', 'https://st.motortrend.com/uploads/sites/10/2019/02/2020-Toyota-Tacoma-TRD-Off-Road-1.jpg', 'https://st.motortrend.com/uploads/sites/10/2017/10/2018-Honda-CR-V-front-three-quarter-in-motion-01.jpg', 'https://st.motortrend.com/uploads/sites/10/2015/09/2016-Toyota-RAV4-front-three-quarter.jpg', 'https://st.motortrend.com/uploads/sites/10/2019/04/2020-Ford-Escape-1.jpg', 'https://st.motortrend.com/uploads/sites/10/2017/07/2018-Honda-Accord-Touring-front-three-quarter.jpg', 'https://st.motortrend.ca/uploads/sites/10/2018/06/2018-toyota-yaris-l-3door-hatchback-angular-front.png']\n"
     ]
    }
   ],
   "source": [
    "# Create empty lists to hold vehicle pricing and specifications \n",
    "MSRP = []\n",
    "CPO = []\n",
    "UCV = []\n",
    "VR = []\n",
    "EN = []\n",
    "TN = []\n",
    "T = []\n",
    "C = []\n",
    "HP = []\n",
    "MPG = []\n",
    "BSt = []\n",
    "DT = []\n",
    "FT = []\n",
    "SC = []\n",
    "IMGURL = []\n",
    "\n",
    "# Loop through urls\n",
    "for item in car_soup:\n",
    "    # Retrieve pricing from \"price\" tags\n",
    "    msr = item.find_all('div', class_=\"price\")[0].text\n",
    "    try:\n",
    "        cp = item.find_all('div', class_=\"price\")[1].text        \n",
    "    except:\n",
    "        cp = \"N/A\"\n",
    "    try:\n",
    "        uc = item.find_all('div', class_=\"price\")[2].text        \n",
    "    except:\n",
    "        uc = \"N/A\"\n",
    "        \n",
    "    # Append pricing to empty lists\n",
    "    MSRP.append(msr)\n",
    "    CPO.append(cp)\n",
    "    UCV.append(uc)\n",
    "    \n",
    "    # Retreive vehicle specifications from key value pair tags\n",
    "    aV = item.find_all('div', class_ = \"value\")[1].text\n",
    "    aE = item.find_all('div', class_ = \"value\")[2].text\n",
    "    aTN = item.find_all('div', class_ = \"value\")[3].text\n",
    "    aT = item.find_all('div', class_ = \"value\")[4].text\n",
    "    aC = item.find_all('div', class_ = \"value\")[5].text\n",
    "    aHP = item.find_all('div', class_ = \"value\")[6].text\n",
    "    aMPG = item.find_all('div', class_ = \"value\")[7].text\n",
    "    aBSt = item.find_all('div', class_ = \"value\")[8].text\n",
    "    aDT = item.find_all('div', class_ = \"value\")[9].text\n",
    "    aFT = item.find_all('div', class_ = \"value\")[10].text\n",
    "    aSC = item.find_all('div', class_ = \"value\")[11].text\n",
    "    IU = item.find('img', class_ = \"attachment-full-width\")['data-base']\n",
    "    \n",
    "    # Append vehicle specifications to empty lists \n",
    "    VR.append(aV)\n",
    "    EN.append(aE)\n",
    "    TN.append(aTN)\n",
    "    T.append(aT)\n",
    "    C.append(aC)\n",
    "    HP.append(aHP)\n",
    "    MPG.append(aMPG.replace('\\n', '').replace('\\t\\t\\t\\t\\t\\t\\t\\t\\t ', ''))\n",
    "    BSt.append(aBSt)\n",
    "    DT.append(aDT)\n",
    "    FT.append(aFT)\n",
    "    SC.append(aSC)\n",
    "    IMGURL.append(IU)\n",
    "    \n",
    "# Preview results\n",
    "print(MSRP[0])\n",
    "print(CPO[0])\n",
    "print(UCV[0])\n",
    "print(VR[0])\n",
    "print(EN[0])\n",
    "print(TN[0])\n",
    "print(T[0])\n",
    "print(C[0])\n",
    "print(HP[0])\n",
    "print(MPG[0])\n",
    "print(BSt[0])\n",
    "print(DT[0])\n",
    "print(FT[0])\n",
    "print(SC[0])\n",
    "print(IMGURL)"
   ]
  },
  {
   "cell_type": "code",
   "execution_count": null,
   "metadata": {},
   "outputs": [
    {
     "name": "stdout",
     "output_type": "stream",
     "text": [
      "https://www.kbb.com/ford/f150-supercrew-cab/2016/\n",
      "<Response [200]>\n",
      "https://www.kbb.com/gmc/sierra-1500-crew-cab/2016/\n",
      "<Response [200]>\n",
      "https://www.kbb.com/honda/civic/2016/\n",
      "<Response [200]>\n",
      "https://www.kbb.com/subaru/outback/2016/\n",
      "<Response [200]>\n",
      "https://www.kbb.com/nissan/rogue/2016/\n"
     ]
    }
   ],
   "source": [
    "# Scrape images\n",
    "# Create two empty lists to hold scraping response and data\n",
    "car_response_img = []\n",
    "car_soup_img = []\n",
    "\n",
    "# https://www.kbb.com/honda/civic/2016/\n",
    "\n",
    "# Retrieve Motor Trend page and loop through to receive vehicle information urls for each car\n",
    "for item in range(len(unique_cars_df['Model'])):\n",
    "    if unique_cars_df['Model'][item] == 'F-150':\n",
    "        car_url_img = 'https://www.kbb.com/ford/f150-supercrew-cab/2016/'\n",
    "    elif unique_cars_df['Model'][item] == 'Sierra-1500':\n",
    "        car_url_img = 'https://www.kbb.com/gmc/sierra-1500-crew-cab/2016/'\n",
    "    elif unique_cars_df['Model'][item] == 'Silverado-1500':\n",
    "        car_url_img = 'https://www.kbb.com/chevrolet/silverado-1500-crew-cab/2016/'\n",
    "    elif unique_cars_df['Model'][item] == 'Tacoma':\n",
    "        car_url_img = 'https://www.kbb.com/toyota/tacoma-double-cab/2016/'        \n",
    "    else:\n",
    "        car_url_img = \"https://www.kbb.com/\" + unique_cars_df['Make'][item].lower() + \"/\" + \\\n",
    "        unique_cars_df['Model'][item].lower() + \"/2016/\"\n",
    "    # Preview url\n",
    "    print(car_url_img)\n",
    "    responses = requests.get(car_url_img)\n",
    "    # Append results to both lists\n",
    "    car_soup_img.append(bs(responses.text,'html.parser'))\n",
    "    car_response_img.append(responses)\n",
    "    # Preview response\n",
    "    print(responses)"
   ]
  },
  {
   "cell_type": "code",
   "execution_count": null,
   "metadata": {},
   "outputs": [],
   "source": [
    "# Create empty lists to hold vehicle pricing and specifications \n",
    "IMGURL = []\n",
    "\n",
    "# Loop through urls\n",
    "for item in car_soup_img:\n",
    "    IU = f\"https:{item.find('img', class_ = 'media-hero-image')['src']}\"\n",
    "    \n",
    "    # Append vehicle image to empty lists \n",
    "    IMGURL.append(IU)\n",
    "    \n",
    "# Preview results\n",
    "print(IMGURL[0])"
   ]
  },
  {
   "cell_type": "markdown",
   "metadata": {},
   "source": [
    "### Create Final DataFrame"
   ]
  },
  {
   "cell_type": "code",
   "execution_count": null,
   "metadata": {},
   "outputs": [],
   "source": [
    "# Create dataframe\n",
    "df_prelim = pd.DataFrame({\n",
    "    'Model': unique_cars_df['Model'],\n",
    "    'Manufacturer_Suggested_Retail_Price':MSRP,\n",
    "    'Certified_Pre-Owned_Price':CPO,\n",
    "    'Used_Car_Value':UCV,\n",
    "    'Value_Rating':VR,\n",
    "    'Engine_Name':EN,\n",
    "    'Transmission_Name':TN,\n",
    "    'Trim':T,\n",
    "    'Class':C,\n",
    "    'Horsepower':HP,\n",
    "    'Standard_MPG':MPG,\n",
    "    'Body_Style':BSt,\n",
    "    'Drivetrain':DT,\n",
    "    'Fuel_Type':FT,\n",
    "    'Seating_Capacity':SC,\n",
    "    'Image_URL':IMGURL\n",
    "})\n",
    "\n",
    "# Preview dataframe\n",
    "df_prelim.head()"
   ]
  },
  {
   "cell_type": "code",
   "execution_count": null,
   "metadata": {},
   "outputs": [],
   "source": [
    "# Find cars with missing used price info\n",
    "# df_prelim[df_prelim.Used_Car_Value == 'N/A']\n",
    "\n",
    "# Update used price (retrieved manually from kbb)\n",
    "df_prelim.loc[df_prelim.Model == 'Yaris', 'Used_Car_Value'] = \"$9,714\"\n",
    "df_prelim.loc[df_prelim.Model == 'Corolla', 'Used_Car_Value'] = \"$13,459\"\n",
    "df_prelim.loc[df_prelim.Model == 'Civic', 'Used_Car_Value'] = \"$13,802\"\n",
    "df_prelim.loc[df_prelim.Model == 'Accord', 'Used_Car_Value'] = \"$14,222\"\n",
    "# Fix Civic image\n",
    "df_prelim.loc[df_prelim.Model == 'Civic', 'Image_URL'] = \"https://st.motortrend.com/uploads/sites/10/2016/10/2017-Honda-Civic-sedan-front-three-quarter.jpg\"\n",
    "\n",
    "# preview dataframe\n",
    "df_prelim.head(50)"
   ]
  },
  {
   "cell_type": "code",
   "execution_count": null,
   "metadata": {},
   "outputs": [],
   "source": [
    "df.head()"
   ]
  },
  {
   "cell_type": "code",
   "execution_count": null,
   "metadata": {},
   "outputs": [],
   "source": [
    "# Conduct a \"left\" join to merge dataframes\n",
    "final_df = df.merge(df_prelim, how = 'left', on = 'Model')\n",
    "\n",
    "# Preview final dataframe\n",
    "final_df.head()"
   ]
  },
  {
   "cell_type": "markdown",
   "metadata": {},
   "source": [
    "### Update Map Information JSON File"
   ]
  },
  {
   "cell_type": "code",
   "execution_count": null,
   "metadata": {},
   "outputs": [],
   "source": [
    "# Open JSON as a read only and load into variable\n",
    "with open('state_boundaries.json', 'r') as f:\n",
    "    datastore = json.load(f)"
   ]
  },
  {
   "cell_type": "code",
   "execution_count": null,
   "metadata": {},
   "outputs": [],
   "source": [
    "# Extract desired columns from dataframe\n",
    "panel_df = final_df[['State', 'Model', 'Make', 'Manufacturer_Suggested_Retail_Price', 'Class', 'Standard_MPG', \\\n",
    "                      'Body_Style', 'Image_URL']]\n",
    "\n",
    "# Rename columns appropriately \n",
    "panel_df.columns = ['STATE', 'MODEL', 'MAKE', 'MSRP', 'CLASS', 'MPG', 'BODY', 'IMGURL']\n",
    "\n",
    "# Convert dataframe to dictionary format\n",
    "car_info_dict = panel_df.to_dict(orient='records')\n",
    "\n",
    "# Inspect dictionary\n",
    "car_info_dict"
   ]
  },
  {
   "cell_type": "code",
   "execution_count": null,
   "metadata": {},
   "outputs": [],
   "source": [
    "# Loop through \"features\" dictionary\n",
    "for feature in datastore['features']:\n",
    "# Print(feature['properties']['NAME'])\n",
    "    for entry in car_info_dict:\n",
    "        if entry['STATE'] == feature['properties']['NAME']:\n",
    "            feature['properties'].update(entry)\n",
    "# Inspect first element    \n",
    "datastore['features'][0]"
   ]
  },
  {
   "cell_type": "code",
   "execution_count": null,
   "metadata": {},
   "outputs": [],
   "source": [
    "# Create new JSON file with new information\n",
    "with open('state_car_info.json', 'w') as fp:\n",
    "    json.dump(datastore, fp)"
   ]
  },
  {
   "cell_type": "markdown",
   "metadata": {},
   "source": [
    "### Create Database"
   ]
  },
  {
   "cell_type": "code",
   "execution_count": null,
   "metadata": {},
   "outputs": [],
   "source": [
    "# Create SQLite DB\n",
    "sql_data = 'db\\cars.sqlite' \n",
    "\n",
    "# Connect to DB\n",
    "conn = sq.connect(sql_data)\n",
    "cur = conn.cursor()\n",
    "\n",
    "# Drop table if it exists and create it from dataframe\n",
    "cur.execute('''DROP TABLE IF EXISTS car_stats''')\n",
    "final_df.to_sql('car_stats', conn, if_exists='replace', index=False) # - writes the pd.df to SQLIte DB\n",
    "pd.read_sql('select * from car_stats', conn)\n",
    "\n",
    "# Commit and close connection\n",
    "conn.commit()\n",
    "conn.close()"
   ]
  },
  {
   "cell_type": "code",
   "execution_count": null,
   "metadata": {},
   "outputs": [],
   "source": [
    "# Query DB table\n",
    "conn = sq.connect(sql_data)\n",
    "pd.read_sql('select * from car_stats', conn)"
   ]
  },
  {
   "cell_type": "code",
   "execution_count": null,
   "metadata": {},
   "outputs": [],
   "source": [
    "# plot_results = db.session.query(Cars.Make, Cars.Model, Cars.Manufacturer_Suggested_Retail_Price, \\\n",
    "#                                 Cars.Used_Car_Value).distinct()\n",
    "\n",
    "# car_info = []\n",
    "# plot_info = []\n",
    "\n",
    "# for result in plot_results:\n",
    "#     car_info.append(f'{result[0]} {result[1]}')\n",
    "#     car_info.append(result[2].replace('$','').replace(',',''))\n",
    "#     car_info.append(result[3].replace('$','').replace(',',''))\n",
    "#     plot_info.append(car_info)\n",
    "#     car_info = []\n",
    "    \n",
    "# # Distinct list of lists    \n",
    "# import itertools\n",
    "# plot_info.sort()\n",
    "# list(plot_info for plot_info,_ in itertools.groupby(plot_info))    "
   ]
  },
  {
   "cell_type": "code",
   "execution_count": null,
   "metadata": {},
   "outputs": [],
   "source": []
  }
 ],
 "metadata": {
  "kernelspec": {
   "display_name": "Python 3",
   "language": "python",
   "name": "python3"
  },
  "language_info": {
   "codemirror_mode": {
    "name": "ipython",
    "version": 3
   },
   "file_extension": ".py",
   "mimetype": "text/x-python",
   "name": "python",
   "nbconvert_exporter": "python",
   "pygments_lexer": "ipython3",
   "version": "3.7.3"
  }
 },
 "nbformat": 4,
 "nbformat_minor": 2
}
